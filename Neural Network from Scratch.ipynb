{
 "cells": [
  {
   "cell_type": "code",
   "execution_count": 1,
   "id": "b75b0c3b",
   "metadata": {},
   "outputs": [],
   "source": [
    "import numpy as np\n",
    "import math\n",
    "from sklearn.preprocessing import LabelBinarizer\n",
    "from sklearn.metrics import accuracy_score\n",
    "import tensorflow as tf"
   ]
  },
  {
   "cell_type": "code",
   "execution_count": 2,
   "id": "5a97f62e",
   "metadata": {},
   "outputs": [],
   "source": [
    "mnist = tf.keras.datasets.mnist\n",
    "\n",
    "(x_train, y_train), (x_test, y_test) = mnist.load_data()\n",
    "x_train = x_train.reshape(-1,28*28).astype(\"float32\")\n",
    "x_test = x_test.reshape(-1,28*28).astype(\"float32\")\n",
    "x_train = tf.keras.utils.normalize(x_train,axis=1)\n",
    "x_test = tf.keras.utils.normalize(x_test,axis=1)\n",
    "y_train = LabelBinarizer().fit_transform(y_train)\n",
    "y_test = LabelBinarizer().fit_transform(y_test)"
   ]
  },
  {
   "cell_type": "code",
   "execution_count": 3,
   "id": "ab24b507",
   "metadata": {},
   "outputs": [],
   "source": [
    "class Q2:\n",
    "    \n",
    "    def __init__(self, layers, batch_size, lr=0.1):\n",
    "        self.W = []\n",
    "        self.layers = layers\n",
    "        self.batch_size = batch_size\n",
    "        self.lr = lr\n",
    "        \n",
    "        for i in np.arange(0, len(layers) - 2):\n",
    "            w = np.random.randn(layers[i]+1,layers[i+1]+1)\n",
    "            self.W.append(w/np.sqrt(layers[i]))\n",
    "            \n",
    "        w = np.random.randn(layers[-2]+1,layers[-1])\n",
    "        self.W.append(w)\n",
    "        \n",
    "    def sigmoid(self,x):\n",
    "        return 1.0/(1.0+np.exp(-x))\n",
    "    \n",
    "    def sigmoid_derivative(self, x):\n",
    "        return x*(1 - x)\n",
    "    \n",
    "    def model_prepare(self, x, y):\n",
    "        arr = [np.atleast_2d(x)]\n",
    "        \n",
    "        for layer in np.arange(0, len(self.W)):\n",
    "            net = arr[layer].dot(self.W[layer])\n",
    "            out = self.sigmoid(net)\n",
    "            arr.append(out)\n",
    "            \n",
    "        error = arr[-1] - y\n",
    "        der = [error * self.sigmoid_derivative(arr[-1])]\n",
    "        \n",
    "        for layer in np.arange(len(arr) - 2, 0, -1):\n",
    "            del_d = der[-1].dot(self.W[layer].T)\n",
    "            del_d = del_d * self.sigmoid_derivative(arr[layer])\n",
    "            der.append(del_d)\n",
    "            \n",
    "        der = der[::-1]\n",
    "        \n",
    "        for layer in np.arange(0, len(self.W)):\n",
    "            self.W[layer] += -self.lr * arr[layer].T.dot(der[layer])\n",
    "            \n",
    "    def loss(self, X, targets):\n",
    "        targets = np.atleast_2d(targets)\n",
    "        predictions = self.predict(X, addBias=False)\n",
    "        losses = 0.5 * np.sum((predictions - targets) ** 2)\n",
    "        return losses\n",
    "    \n",
    "    def predict(self, X, addBias=True):\n",
    "        pred = np.atleast_2d(X)\n",
    "        if addBias:\n",
    "            pred = np.c_[pred, np.ones((pred.shape[0]))]\n",
    "        \n",
    "        for j in np.arange(0, len(self.W)):\n",
    "            pred = self.sigmoid(np.dot(pred, self.W[j]))\n",
    "\n",
    "        return pred\n",
    "    \n",
    "    def train(self, X, y, epochs=100):\n",
    "        X = np.c_[X, np.ones((X.shape[0]))]\n",
    "        for epoch in np.arange(0, epochs):\n",
    "            \n",
    "            for j in range(0,X.shape[0],self.batch_size):\n",
    "                x = X[j:j+self.batch_size]\n",
    "                target = y[j:j+self.batch_size]\n",
    "                self.model_prepare(x, target)\n",
    "                \n",
    "            loss = self.loss(X, y)"
   ]
  },
  {
   "cell_type": "code",
   "execution_count": 4,
   "id": "3897a103",
   "metadata": {},
   "outputs": [],
   "source": [
    "final = Q2(layers = [784, 15, 10],batch_size = 32)\n",
    "\n",
    "final.train(x_train, y_train, epochs=5)"
   ]
  },
  {
   "cell_type": "code",
   "execution_count": 5,
   "id": "c427b589",
   "metadata": {},
   "outputs": [
    {
     "name": "stdout",
     "output_type": "stream",
     "text": [
      "Accuracy of Neural network using Backpropagation-our model is : 0.9205\n"
     ]
    }
   ],
   "source": [
    "predictions = final.predict(x_test)\n",
    "predictions = predictions.argmax(axis=1)\n",
    "print(\"Accuracy :\",accuracy_score(y_test.argmax(axis=1), predictions))"
   ]
  },
  {
   "cell_type": "code",
   "execution_count": 6,
   "id": "caeced03",
   "metadata": {},
   "outputs": [],
   "source": [
    "from tensorflow import keras\n",
    "from tensorflow.keras import layers\n",
    "import tensorflow as tf"
   ]
  },
  {
   "cell_type": "code",
   "execution_count": 7,
   "id": "0c3b171e",
   "metadata": {},
   "outputs": [],
   "source": [
    "def loss_fun(y_true, y_pred):\n",
    "    y_true = tf.cast(y_true, tf.float32)\n",
    "    y_pred = tf.cast(y_pred, tf.float32)\n",
    "    loss = 0.5 * tf.reduce_sum((y_pred - y_true) ** 2)\n",
    "    return loss"
   ]
  },
  {
   "cell_type": "code",
   "execution_count": 8,
   "id": "07dc4a59",
   "metadata": {},
   "outputs": [
    {
     "name": "stdout",
     "output_type": "stream",
     "text": [
      "Epoch 1/5\n",
      "1875/1875 [==============================] - 2s 982us/step - loss: 7.3971 - accuracy: 0.6980\n",
      "Epoch 2/5\n",
      "1875/1875 [==============================] - 2s 989us/step - loss: 3.6714 - accuracy: 0.8735\n",
      "Epoch 3/5\n",
      "1875/1875 [==============================] - 2s 989us/step - loss: 2.9890 - accuracy: 0.8951\n",
      "Epoch 4/5\n",
      "1875/1875 [==============================] - 2s 935us/step - loss: 2.6762 - accuracy: 0.9046\n",
      "Epoch 5/5\n",
      "1875/1875 [==============================] - 2s 944us/step - loss: 2.4890 - accuracy: 0.9110\n"
     ]
    },
    {
     "data": {
      "text/plain": [
       "<keras.callbacks.History at 0x14295760580>"
      ]
     },
     "execution_count": 8,
     "metadata": {},
     "output_type": "execute_result"
    }
   ],
   "source": [
    "Default_net = keras.Sequential()\n",
    "Default_net.add(keras.layers.InputLayer((784)))\n",
    "\n",
    "neurons = [15,10]\n",
    "\n",
    "initializer = tf.keras.initializers.RandomNormal(mean=0.0, stddev=1.0)\n",
    "\n",
    "size = len(neurons)\n",
    "for i in range(0,size-1,1):\n",
    "    Default_net.add(layers.Dense(neurons[i], activation='sigmoid', kernel_initializer=initializer, bias_initializer=initializer))\n",
    "\n",
    "Default_net.add(layers.Dense(neurons[size-1], activation='sigmoid', kernel_initializer=initializer, use_bias = False))\n",
    "\n",
    "Default_net.compile(\n",
    "loss=loss_fun, \n",
    "optimizer=tf.keras.optimizers.SGD(learning_rate = 0.1),\n",
    "metrics=[\"accuracy\"])\n",
    "\n",
    "Default_net.fit(x_train, y_train, batch_size=32, epochs=5, verbose=1)"
   ]
  },
  {
   "cell_type": "code",
   "execution_count": null,
   "id": "0c902c7f",
   "metadata": {},
   "outputs": [],
   "source": []
  }
 ],
 "metadata": {
  "kernelspec": {
   "display_name": "Python 3 (ipykernel)",
   "language": "python",
   "name": "python3"
  },
  "language_info": {
   "codemirror_mode": {
    "name": "ipython",
    "version": 3
   },
   "file_extension": ".py",
   "mimetype": "text/x-python",
   "name": "python",
   "nbconvert_exporter": "python",
   "pygments_lexer": "ipython3",
   "version": "3.9.2"
  }
 },
 "nbformat": 4,
 "nbformat_minor": 5
}
